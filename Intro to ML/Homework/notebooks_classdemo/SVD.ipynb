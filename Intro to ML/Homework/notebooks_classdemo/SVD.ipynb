{
 "cells": [
  {
   "cell_type": "markdown",
   "metadata": {},
   "source": [
    "## Image Compression Using Singular Value Decomposition\n",
    "Note that the use of an image as a data set in this demonstration is different than how we used images for demonstrating PCA. In the case of PCA, each image was an object and the pixel values (flattened) were the features. PCA allowed us to analyze the entire data set of images.\n",
    "\n",
    "For SVD, we are assuming that each row in the image is a data object and the column values are the features."
   ]
  },
  {
   "cell_type": "code",
   "execution_count": null,
   "metadata": {},
   "outputs": [],
   "source": [
    "%matplotlib inline\n",
    "import matplotlib.pyplot as plt\n",
    "import numpy as np\n",
    "import time\n",
    "\n",
    "from PIL import Image"
   ]
  },
  {
   "cell_type": "code",
   "execution_count": null,
   "metadata": {},
   "outputs": [],
   "source": [
    "#load a random image and convert it into black and white\n",
    "img = Image.open('../data/arch.jpg')\n",
    "imggray = img.convert('LA')\n",
    "fig = plt.figure(figsize=(18, 12))\n",
    "fig.add_subplot(1,2,1)\n",
    "plt.imshow(img)\n",
    "fig.add_subplot(1,2,2)\n",
    "plt.imshow(imggray)"
   ]
  },
  {
   "cell_type": "code",
   "execution_count": null,
   "metadata": {},
   "outputs": [],
   "source": [
    "# convert image to a np matrix (the underlying data is unchanged)\n",
    "imgmat = np.array(list(imggray.getdata(band=0)), float)\n",
    "imgmat.shape = (imggray.size[1], imggray.size[0])\n",
    "X = np.matrix(imgmat)\n",
    "plt.figure(figsize=(9,6))\n",
    "plt.imshow(X, cmap='gray');"
   ]
  },
  {
   "cell_type": "code",
   "execution_count": null,
   "metadata": {},
   "outputs": [],
   "source": [
    "# compute SVD for the matrix\n",
    "U, S, V = np.linalg.svd(X)\n",
    "print(X.shape)\n",
    "print(S.shape)"
   ]
  },
  {
   "cell_type": "code",
   "execution_count": null,
   "metadata": {},
   "outputs": [],
   "source": [
    "plt.plot(S)"
   ]
  },
  {
   "cell_type": "markdown",
   "metadata": {},
   "source": [
    "Computing an approximation of the image using the first column of U and first row of V reproduces the most prominent feature of the image, the light area on top and the dark area on the bottom. The darkness of the arch causes the extra darkness in the middle of the reconstruction. "
   ]
  },
  {
   "cell_type": "code",
   "execution_count": null,
   "metadata": {},
   "outputs": [],
   "source": [
    "L = 1\n",
    "Z = np.matrix(U[:, :L]) * np.diag(S[:L]) * np.matrix(V[:L, :])\n",
    "plt.figure(figsize=(9,6))\n",
    "plt.imshow(Z, cmap='gray');\n",
    "print('Approach SVD error is %s'%str(np.linalg.norm(X - Z,ord='fro')))"
   ]
  },
  {
   "cell_type": "code",
   "execution_count": null,
   "metadata": {},
   "outputs": [],
   "source": [
    "plt.imshow(X -Z, cmap='gray')"
   ]
  },
  {
   "cell_type": "code",
   "execution_count": null,
   "metadata": {},
   "outputs": [],
   "source": [
    "# approach 1 - randomly pick up a column and replicate\n",
    "Xhat = np.tile(X[:,np.random.choice(X.shape[1])],[1,X.shape[1]])\n",
    "plt.figure(figsize=(18,15))\n",
    "plt.subplot(1,4,1)\n",
    "plt.imshow(Xhat, cmap='gray');\n",
    "print('Approach 1 error is %s'%str(np.linalg.norm(X - Xhat,ord='fro')))\n",
    "# approach 2 - use the row means\n",
    "Xhat = np.tile(np.mean(X,axis=1),[1,X.shape[1]])\n",
    "plt.subplot(1,4,2)\n",
    "plt.imshow(Xhat, cmap='gray');\n",
    "print('Approach 2 error is %s'%str(np.linalg.norm(X - Xhat,ord='fro')))\n",
    "# approach 3 - pick one row and one column at random and multiply\n",
    "c = np.random.choice(X.shape[1])\n",
    "r = np.random.choice(X.shape[0])\n",
    "Xhat = np.dot(X[:,c:c+1],X[r:r+1,:])\n",
    "plt.subplot(1,4,3)\n",
    "plt.imshow(Xhat, cmap='gray');\n",
    "print('Approach 3 error is %s'%str(np.linalg.norm(X - Xhat,ord='fro')))\n",
    "# approach 4 - pick column and row means and multiply\n",
    "Xhat = np.dot(np.mean(X,axis=1),np.mean(X,axis=0))\n",
    "plt.subplot(1,4,4)\n",
    "plt.imshow(Xhat, cmap='gray');\n",
    "print('Approach 4 error is %s'%str(np.linalg.norm(X - Xhat,ord='fro')))"
   ]
  },
  {
   "cell_type": "code",
   "execution_count": null,
   "metadata": {},
   "outputs": [],
   "source": [
    "#plotting the error\n",
    "plt.imshow(np.abs(Z - X),cmap='gray')\n",
    "plt.colorbar()"
   ]
  },
  {
   "cell_type": "markdown",
   "metadata": {},
   "source": [
    "This is the best rank-1 approximation that you can get (for Frobenius norm).\n",
    "Now compute the reconstruction for higher rank approximations."
   ]
  },
  {
   "cell_type": "code",
   "execution_count": null,
   "metadata": {},
   "outputs": [],
   "source": [
    "fig = plt.figure(1,figsize=[10,10],dpi=300)\n",
    "c = 1\n",
    "for i in range(5, 51, 5):\n",
    "    Z = np.matrix(U[:, :i]) * np.diag(S[:i]) * np.matrix(V[:i, :])\n",
    "    plt.subplot(4,3,c)\n",
    "    c = c + 1\n",
    "    plt.imshow(Z, cmap='gray')\n",
    "    title = \"n = %s\" % i\n",
    "    plt.title(title)"
   ]
  },
  {
   "cell_type": "markdown",
   "metadata": {},
   "source": [
    "## Users and Items: Finding the Right Customer Using Matrix Completion using SVD\n",
    "(Shamelessly) copied from http://www.thoughtfultech.co.uk/matrix-completion-for-users-and-items.html\n"
   ]
  },
  {
   "cell_type": "markdown",
   "metadata": {},
   "source": [
    "So let us imagine you have got a website doing great trade in widgets, selling them to users that you have registered. Cleverly, you've kept track of what users buy, so you have a complete picture of the site's shopping status. Great!, but how useful is this data? You really want to target customers with products they might have a genuine interest in without it being classed as \"spam\". The system you require is usually called a __Recommender System__ and should be an integral part of the marketing process in your business. \n",
    "\n",
    "There are two key things you can do with this type of system:\n",
    "\n",
    "1. Recommend products that you think users will like, to the right user.\n",
    "2. Figure out what stock you need.\n",
    "\n",
    "So what does this type of data look like? The best way to structure the data is to present the \"users\" as rows and \"items\" as columns. This naturally forms a matrix with the amounts bought as elements and with missing values as the values we mainly wish to predict. Missing values are potential selling points, so we can target users with these products either through direct mail or product placement when they view the website. It also gives some indication of the amount of stock that might be required for each item. So a little shop selling ten items to eight customers would be best represented by a matrix that looks like this: \n",
    "$$\n",
    "X = \\left(\n",
    "\\begin{array}{ccccccccccc}\n",
    "                      & Chocolate & TV & Peanuts & Crisps & Wine & Beer & Champagne & Ginger Beer & Lemonade & Orange Juice  \\\\ \n",
    "                Jim & 1  & \\_ & \\_ & 2 & 1 & 4 & 6 & \\_ & 5 & 2\\\\\n",
    "                Brenda & 4  & \\_ &  5 & 5 & 6 & 7 & 6 & \\_ & 7 & 1\\\\\n",
    "                Jonny & \\_ & \\_ & \\_ & 2 & 1 & 4 & 6 & \\_ & 5 & \\_ \\\\\n",
    "                Jo & 3  & \\_ & \\_ & 2 & 1 & 4 & 6 & 1 & 4  & \\_\\\\  \n",
    "                Rosa & 3  & \\_ & \\_ & 2 & 1 & 4 & 6 & \\_ & 5 & \\_\\\\  \n",
    "                Ruby & \\_ &  3 &  3 & 4 & 4 & 4 & 4 & 5  & 6 & 2\\\\ \n",
    "                Julie & 3  & \\_ & \\_ & 2 & 1 & 4 & 6 & \\_ & 5 & \\_\\\\\n",
    "                Karen & 3  & 6  & \\_ & \\_ & \\_ & \\_ & \\_ & \\_ & 5 & 2 \\\\\n",
    "                \\end{array} \n",
    "\\right)\n",
    "$$\n",
    "\n",
    "This we will call the \"Source\" matrix, Each row/column combination records how much of a product (column) has been bought by a user (row).\n",
    "In addition, we might simplify this view to generate a binary \"interaction\" matrix. This is the above data simplified to record whether an item has been bought (1) or not (_). \n",
    "\n",
    "$$\n",
    "X_b = \\left( \\begin{array}{ccccccccccc}\n",
    "                       & Chocolate & TV & Peanuts & Crisps & Wine & Beer & Champagne & Ginger Beer & Lemonade & Orange Juice  \\\\ \n",
    "                Jim & 1  & \\_ & \\_ & 1 & 1 & 1 & 1 & \\_ & 1 & 1\\\\\n",
    "                Brenda & 1  & \\_ &  1 & 1 & 1 & 1 & 1 & \\_ & 1 & 1\\\\\n",
    "                Jonny & \\_ & \\_ & \\_ & 1 & 1 & 1 & 1 & \\_ & 1 & \\_ \\\\\n",
    "                Jo & 1  & \\_ & \\_ & 1 & 1 & 1 & 1 & 1 & 1  & \\_\\\\  \n",
    "                Rosa & 1  & \\_ & \\_ & 1 & 1 & 1 & 1 & \\_ & 1 & \\_\\\\  \n",
    "                Ruby & \\_ &  1 &  1 & 1 & 1 & 1 & 1 & 1  & 1 & 1\\\\ \n",
    "                Julie & 1  & \\_ & \\_ & 1 & 1 & 1 & 1 & \\_ & 1 & \\_\\\\\n",
    "                Karen & 1  & 1  & \\_ & \\_ & \\_ & \\_ & \\_ & \\_ & 1 & 1 \\\\\n",
    "                \\end{array} \n",
    "\\right)\n",
    "$$\n",
    "\n",
    "In Numpy this would look something like this:"
   ]
  },
  {
   "cell_type": "code",
   "execution_count": null,
   "metadata": {},
   "outputs": [],
   "source": [
    "#generate the data \n",
    "X = np.array([[1,0,0,2,1,4,6,0,5,2],\n",
    "             [4,0,5,2,1,4,6,0,5,1],\n",
    "             [0,0,0,2,1,4,6,1,4,0],\n",
    "             [3,0,0,2,1,4,6,0,5,0],\n",
    "             [3,0,0,2,1,4,6,0,5,0],\n",
    "             [0,3,3,4,4,4,4,5,6,2],\n",
    "             [3,0,0,2,1,4,6,0,5,0],\n",
    "             [3,6,0,0,0,0,0,0,5,2],])\n",
    "Xb = X.clip(0,1) #clip bound everything above 1 to 1\n",
    "print(\"X=\\n\" + str(X))\n",
    "print(\"Xb=\\n\" + str(Xb))"
   ]
  },
  {
   "cell_type": "markdown",
   "metadata": {},
   "source": [
    "We replace the blanks with zeros, knowing these are the values we need to estimate. Once we have estimated the blanks we can build a recommendation. Looking at the above matrix a sensible recommendation might be Chocolate for Ruby and Ginger Beer for Rosa, when the user next logged onto the website this would be shown in the now common \"we recommend\" element usually towards the bottom of the page. For Ruby the first item would be Chocolate and for Rosa this would be Ginger Beer.\n",
    " \n",
    " \n",
    "__Recommender Algorithms__\n",
    " \n",
    "  The big question is how might we do this? The most obvious approach is to use what we know about similar user's purchasing patterns to predict user's unknown values. Likewise, we can also use what we know about how similar products have sold to predict a product's unknown values. These approaches are known as __Collaborative Filtering__. A second less obvious method from the field of statistics is to try and predict the underlying drivers for the _user buys item_ decision process using a __Latent Factor Model__ in our case using __Singular Valued Decomposition__. "
   ]
  },
  {
   "cell_type": "code",
   "execution_count": null,
   "metadata": {},
   "outputs": [],
   "source": [
    "from scipy.linalg import svd,diagsvd\n",
    "#simple calculate of the necessary SVD matrices\n",
    "U, s, Vh = svd(Xb)\n",
    "#plot the elbow plot\n",
    "plt.plot(s**2)\n",
    "plt.xlabel(\"K\")\n",
    "plt.ylabel('$s^2$')\n",
    "plt.title('Elbow plot for SVD')\n",
    "plt.show()\n",
    "#truncate to only first few singular values\n",
    "s[2:]=0\n",
    "#calculate estimate using truncated S\n",
    "outX = np.round(np.dot(np.dot(U,diagsvd(s,8,10)),Vh))\n",
    "#show results\n",
    "print(\"X=\\n\"+str(Xb))\n",
    "# print(\"U=\\n\"+str(U[:1,:].round(1)))\n",
    "# print( \"V=\\n\"+str(Vh[:,:1].round(1)))\n",
    "print( \"X'=\\n\"+str(outX))\n",
    "\n",
    "\n",
    "# print(U.round(2))\n",
    "# print(Vh.round(2))\n",
    "# print(s.round(2))\n",
    "# print(diagsvd(s,2,6).round(2))\n",
    "# #print(diagsvd(s,2,6).round(2))\n",
    "# print(np.dot(np.dot(U,diagsvd(s,5,6)),Vh).round(2))\n",
    "# print(np.dot(np.dot(U[:,0:2],diagsvd(s,5,6)[0:2,0:2]),Vh[0:2,:]).round(2))"
   ]
  },
  {
   "cell_type": "markdown",
   "metadata": {},
   "source": [
    "The new non-zero values maybe used to recommend new products to customers. For instance, one could predict several new items to Karen (last row)!!"
   ]
  },
  {
   "cell_type": "code",
   "execution_count": null,
   "metadata": {},
   "outputs": [],
   "source": [
    "plt.imshow(Xb - outX)\n",
    "plt.colorbar()"
   ]
  },
  {
   "cell_type": "code",
   "execution_count": null,
   "metadata": {},
   "outputs": [],
   "source": []
  }
 ],
 "metadata": {
  "kernelspec": {
   "display_name": "Python 3",
   "language": "python",
   "name": "python3"
  },
  "language_info": {
   "codemirror_mode": {
    "name": "ipython",
    "version": 3
   },
   "file_extension": ".py",
   "mimetype": "text/x-python",
   "name": "python",
   "nbconvert_exporter": "python",
   "pygments_lexer": "ipython3",
   "version": "3.8.3"
  }
 },
 "nbformat": 4,
 "nbformat_minor": 1
}
